{
  "nbformat": 4,
  "nbformat_minor": 0,
  "metadata": {
    "colab": {
      "provenance": []
    },
    "kernelspec": {
      "name": "python3",
      "display_name": "Python 3"
    },
    "language_info": {
      "name": "python"
    }
  },
  "cells": [
    {
      "cell_type": "markdown",
      "source": [
        "# BackPropagation"
      ],
      "metadata": {
        "id": "ZjSqxpv72Kir"
      }
    },
    {
      "cell_type": "code",
      "source": [
        "import numpy as np\n",
        "import matplotlib.pyplot as plt\n",
        "\n",
        "np.random.seed(4)"
      ],
      "metadata": {
        "id": "_voc8G_03TJp"
      },
      "execution_count": 1,
      "outputs": []
    },
    {
      "cell_type": "markdown",
      "source": [
        "## XOR Dataset"
      ],
      "metadata": {
        "id": "RRGMTCev2OJQ"
      }
    },
    {
      "cell_type": "code",
      "source": [
        "X = np.array([[0,0,1,1],[0,1,0,1]]) # 2x4\n",
        "y = np.array([[0,1,1,0]])           # 1x4"
      ],
      "metadata": {
        "id": "9dJs8u-u5k48"
      },
      "execution_count": 2,
      "outputs": []
    },
    {
      "cell_type": "markdown",
      "source": [
        "## Functions"
      ],
      "metadata": {
        "id": "K-QVuIvt2SPK"
      }
    },
    {
      "cell_type": "code",
      "source": [
        "def sigmoid(z):\n",
        "  # IMPLEMENT HERE\n",
        "  z = 1 / (1 + np.exp(-z))\n",
        "  return z\n",
        "\n",
        "def forward_prop(w1, w2, b1, b2, x):\n",
        "  # IMPLEMENT HERE\n",
        "  z1 = w1 @ x + b1\n",
        "  h1 = sigmoid(z1)\n",
        "\n",
        "  z2 = w2 @ h1 + b2\n",
        "  y_hat = sigmoid(z2)\n",
        "\n",
        "  return z1, h1, z2, y_hat\n",
        "\n",
        "def back_prop(m,w1,w2,z1,h1,z2,y_hat,x,y):\n",
        "  # IMPLEMENT HERE\n",
        "  dz2 = y_hat - y\n",
        "  dw2 = dz2 @ h1.T\n",
        "  db2 = dz2 @ np.ones((m,1))\n",
        "\n",
        "  dz1 = w2.T @ dz2 * h1 * (1 - h1)\n",
        "  dw1 = dz1 @ x.T\n",
        "  db1 = dz1 @ np.ones((m,1))\n",
        "\n",
        "  return dw1, db1, dw2, db2"
      ],
      "metadata": {
        "id": "6pjy8P8a5oI2"
      },
      "execution_count": 3,
      "outputs": []
    },
    {
      "cell_type": "markdown",
      "source": [
        "## Define and Initialize weights"
      ],
      "metadata": {
        "id": "ccpvi1ZR2Ux0"
      }
    },
    {
      "cell_type": "code",
      "source": [
        "## Initialize weights\n",
        "n_x = 2\n",
        "n_y = 1\n",
        "n_h = 2\n",
        "\n",
        "w1 = np.random.rand(n_h, n_x)\n",
        "w2 = np.random.rand(n_y, n_h)\n",
        "b1 = np.random.rand(2, 1)\n",
        "b2 = np.random.rand(1, 1)\n"
      ],
      "metadata": {
        "id": "ukgXbX-uZ0ej"
      },
      "execution_count": 7,
      "outputs": []
    },
    {
      "cell_type": "markdown",
      "source": [
        "## Learning"
      ],
      "metadata": {
        "id": "pr57QjKJ2ZI3"
      }
    },
    {
      "cell_type": "code",
      "source": [
        "iterations = 10000\n",
        "losses = []\n",
        "m = y.shape[1]      # # of data set\n",
        "lr = 0.1            # Learning rate\n",
        "\n",
        "for i in range(iterations):\n",
        "    # IMPLEMENT HERE\n",
        "    z1, a1, z2, y_hat = forward_prop(w1, w2, b1, b2, X)\n",
        "\n",
        "    loss = -(1/m)*np.sum(y*np.log(y_hat) + (1-y)*np.log(1-y_hat))\n",
        "    losses.append(loss)\n",
        "\n",
        "    dw1, db1, dw2, db2 = back_prop(m,w1,w2,z1,a1,z2,y_hat,X,y)\n",
        "\n",
        "    w2 = w2 - lr * dw2\n",
        "    w1 = w1 - lr * dw1\n",
        "    b2 = b2 - lr * db2\n",
        "    b1 = b1 - lr * db1\n",
        "\n",
        "print(f'w1: {w1.flatten()}')\n",
        "print(f'w2: {w2.flatten()}')\n",
        "print(f'b1: {b1.flatten()}')\n",
        "print(f'b2: {b2.flatten()}')\n",
        "print(f'loss: {losses[-1]}')\n",
        "\n",
        "# plot losses to see how our network is doing\n",
        "plt.plot(losses)\n",
        "plt.xlabel(\"EPOCHS\")\n",
        "plt.ylabel(\"Loss value\")\n",
        "plt.show()"
      ],
      "metadata": {
        "colab": {
          "base_uri": "https://localhost:8080/",
          "height": 536
        },
        "id": "aw9VfVBB2aEJ",
        "outputId": "334d3af2-d9a4-49b4-9327-6496dbd25ba7"
      },
      "execution_count": 8,
      "outputs": [
        {
          "output_type": "stream",
          "name": "stdout",
          "text": [
            "w1: [7.4388715  7.44120975 5.64900086 5.64944581]\n",
            "w2: [ 12.93310424 -13.72141207]\n",
            "b1: [-3.40751612 -8.63975943]\n",
            "b2: [-6.06080783]\n",
            "loss: 0.0027791323813310333\n"
          ]
        },
        {
          "output_type": "display_data",
          "data": {
            "text/plain": [
              "<Figure size 640x480 with 1 Axes>"
            ],
            "image/png": "[encoded data removed]"
          },
          "metadata": {}
        }
      ]
    },
    {
      "cell_type": "markdown",
      "source": [
        "## Predict"
      ],
      "metadata": {
        "id": "Z_KUoa4xt45p"
      }
    },
    {
      "cell_type": "code",
      "source": [
        "## Predict\n",
        "def predict(w1,w2, b1, b2, input):\n",
        "    z1, a1, z2, a2 = forward_prop(w1, w2, b1, b2, input)\n",
        "    a2 = np.squeeze(a2)\n",
        "\n",
        "    if a2 <= 0.5:\n",
        "        return 0\n",
        "    else:\n",
        "        return 1\n",
        "\n",
        "for x in X.T:\n",
        "    print(f'{x} => {predict(w1, w2, b1, b2, x.reshape(2,1))}')"
      ],
      "metadata": {
        "colab": {
          "base_uri": "https://localhost:8080/"
        },
        "id": "fA-31IjC8GV_",
        "outputId": "617a768b-f7be-447f-aa2e-f712efafa913"
      },
      "execution_count": 9,
      "outputs": [
        {
          "output_type": "stream",
          "name": "stdout",
          "text": [
            "[0 0] => 0\n",
            "[0 1] => 1\n",
            "[1 0] => 1\n",
            "[1 1] => 0\n"
          ]
        }
      ]
    },
    {
      "cell_type": "code",
      "source": [
        "color = ['red', 'blue']\n",
        "for x0 in np.arange(0, 1, 0.05):\n",
        "    for x1 in np.arange(0, 1, 0.05):\n",
        "        x = np.array([x0, x1])\n",
        "        y_hat_cls = predict(w1, w2, b1, b2, x.reshape(2,1))\n",
        "        plt.scatter(x0, x1, c=color[y_hat_cls], alpha=0.5)\n",
        "\n",
        "plt.show()"
      ],
      "metadata": {
        "colab": {
          "base_uri": "https://localhost:8080/",
          "height": 430
        },
        "id": "j72wsGFprF4U",
        "outputId": "014d11b7-7b96-414e-e791-b261f02ded5e"
      },
      "execution_count": 10,
      "outputs": [
        {
          "output_type": "display_data",
          "data": {
            "text/plain": [
              "<Figure size 640x480 with 1 Axes>"
            ],
            "image/png": "[encoded data removed]"
          },
          "metadata": {}
        }
      ]
    }
  ]
}