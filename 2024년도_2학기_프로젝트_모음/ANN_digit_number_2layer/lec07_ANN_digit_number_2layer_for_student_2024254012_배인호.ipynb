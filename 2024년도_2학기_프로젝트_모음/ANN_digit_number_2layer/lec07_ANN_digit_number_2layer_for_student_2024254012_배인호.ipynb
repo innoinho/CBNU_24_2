{
  "nbformat": 4,
  "nbformat_minor": 0,
  "metadata": {
    "colab": {
      "provenance": []
    },
    "kernelspec": {
      "name": "python3",
      "display_name": "Python 3"
    },
    "language_info": {
      "name": "python"
    }
  },
  "cells": [
    {
      "cell_type": "markdown",
      "source": [
        "# Digit Number"
      ],
      "metadata": {
        "id": "P6GhOWUba1NZ"
      }
    },
    {
      "cell_type": "code",
      "source": [
        "import matplotlib.pyplot as plt\n",
        "from sklearn.metrics import accuracy_score\n",
        "from sklearn.preprocessing import OneHotEncoder\n",
        "from sklearn.model_selection import train_test_split\n",
        "from sklearn.preprocessing import StandardScaler\n",
        "from sklearn.datasets import fetch_openml\n",
        "import numpy as np\n",
        "\n",
        "np.random.seed(4)"
      ],
      "metadata": {
        "id": "6Iv6u4Wk4_bY"
      },
      "execution_count": 1,
      "outputs": []
    },
    {
      "cell_type": "markdown",
      "source": [
        "## Dataset"
      ],
      "metadata": {
        "id": "7PAi408Xd_kZ"
      }
    },
    {
      "cell_type": "code",
      "source": [
        "\n",
        "mnist = fetch_openml('mnist_784')\n",
        "X, y = mnist['data'].to_numpy(), mnist['target'].to_numpy().astype(int)\n"
      ],
      "metadata": {
        "id": "YS8oMn9zd7zw"
      },
      "execution_count": 2,
      "outputs": []
    },
    {
      "cell_type": "code",
      "source": [
        "# show\n",
        "num_imgs = 5\n",
        "fig, axes = plt.subplots(1, num_imgs)\n",
        "for i in range(num_imgs):\n",
        "    axes[i].imshow(X[i].reshape(28,28))\n",
        "    axes[i].set_title(f\"Label: {y[i]}\")\n",
        "    axes[i].axis('off')\n",
        "plt.show()"
      ],
      "metadata": {
        "id": "cs_aC5Bh4zAt",
        "colab": {
          "base_uri": "https://localhost:8080/",
          "height": 144
        },
        "outputId": "cb697759-b62a-4745-93ff-9a1cdb5f13b4"
      },
      "execution_count": 3,
      "outputs": [
        {
          "output_type": "display_data",
          "data": {
            "text/plain": [
              "<Figure size 640x480 with 5 Axes>"
            ],
            "image/png": "[encoded data removed]"
          },
          "metadata": {}
        }
      ]
    },
    {
      "cell_type": "markdown",
      "source": [
        "## Pre-Processing"
      ],
      "metadata": {
        "id": "9tKcQJjUlDCX"
      }
    },
    {
      "cell_type": "code",
      "source": [
        "y_ohe = OneHotEncoder().fit_transform(y.reshape(-1,1)).toarray()\n",
        "X_train, X_test, y_train, y_test = train_test_split(X, y_ohe, test_size=0.2, random_state=12)\n",
        "\n",
        "scaler = StandardScaler()\n",
        "X_train = scaler.fit_transform(X_train)\n",
        "X_test = scaler.transform(X_test)"
      ],
      "metadata": {
        "id": "jxdpDlEnkx_H"
      },
      "execution_count": 4,
      "outputs": []
    },
    {
      "cell_type": "code",
      "source": [
        "def sigmoid(x):\n",
        "\n",
        "    x = np.clip(x, -100, 100)\n",
        "    return 1 / (1 + np.exp(-x))\n",
        "\n",
        "def sigmoid_prime(x):\n",
        "    return x * (1 - x)"
      ],
      "metadata": {
        "id": "87FwCJNFkMWb"
      },
      "execution_count": 6,
      "outputs": []
    },
    {
      "cell_type": "code",
      "source": [
        "def forward_prop(w1, w2, b1, b2, x):\n",
        "    z1 = x @ w1 + b1\n",
        "    h1 = sigmoid(z1)\n",
        "\n",
        "    z2 = h1 @ w2 + b2\n",
        "    y_hat = sigmoid(z2)\n",
        "\n",
        "    return z1, h1, z2, y_hat\n",
        "\n",
        "def back_prop(m,w1,w2,z1,h1,z2,y_hat,x,y):\n",
        "    dz2 = y_hat - y\n",
        "    dw2 = h1.T @ dz2\n",
        "    db2 = np.ones((1,m)) @ dz2 / m\n",
        "\n",
        "    dz1 = dz2 @ w2.T * sigmoid_prime(h1)\n",
        "    dw1 = x.T @ dz1\n",
        "\n",
        "    db1 = np.ones((1,m)) @ dz1 / m\n",
        "\n",
        "    return dw1, db1, dw2, db2\n",
        "    pass"
      ],
      "metadata": {
        "id": "rhIX8itugeJe"
      },
      "execution_count": 7,
      "outputs": []
    },
    {
      "cell_type": "markdown",
      "source": [
        "## Initialization"
      ],
      "metadata": {
        "id": "W6AjsiVxCFOY"
      }
    },
    {
      "cell_type": "code",
      "source": [
        "## Initialize weights\n",
        "n_x = X_train.shape[1]\n",
        "n_y = y_train.shape[1]\n",
        "n_h = 100\n",
        "\n",
        "w1 = np.random.rand(n_x, n_h) - 0.5\n",
        "w2 = np.random.rand(n_h, n_y) - 0.5\n",
        "b1 = np.random.rand(1, n_h) - 0.5\n",
        "b2 = np.random.rand(1, n_y) - 0.5"
      ],
      "metadata": {
        "id": "MRuOgHJW5ptZ"
      },
      "execution_count": 8,
      "outputs": []
    },
    {
      "cell_type": "markdown",
      "source": [
        "## Main Loop"
      ],
      "metadata": {
        "id": "qEMhX4QoCMwT"
      }
    },
    {
      "cell_type": "code",
      "source": [
        "epoch = 30\n",
        "losses = []\n",
        "m = y_train.shape[0]        # of data set\n",
        "lr = 0.01                   # Learning rate\n",
        "\n",
        "y_train_true = np.argmax(y_train, axis=1)\n",
        "y_test_true = np.argmax(y_test, axis=1)\n",
        "for i in range(epoch):\n",
        "    z1, a1, z2, y_hat = forward_prop(w1, w2, b1, b2, X_train)\n",
        "    loss = -(1/m) * np.sum(y_train * np.log(y_hat + 1e-10) + (1-y_train)*np.log(1-y_hat+1e-10))\n",
        "\n",
        "    losses.append(loss)\n",
        "\n",
        "    dw1, db1, dw2, db2 = back_prop(m,w1,w2,z1,a1,z2,y_hat,X_train,y_train)\n",
        "    w2 = w2 - lr * dw2\n",
        "    w1 = w1 - lr * dw1\n",
        "\n",
        "    b2 = b2 - lr * db2\n",
        "    b1 = b1 - lr * db1\n",
        "\n",
        "    print(f'loss: {loss}')"
      ],
      "metadata": {
        "colab": {
          "base_uri": "https://localhost:8080/"
        },
        "collapsed": true,
        "id": "So0G9TCdge6Z",
        "outputId": "50c7495f-bfb4-45be-da44-f1710f386680"
      },
      "execution_count": 9,
      "outputs": [
        {
          "output_type": "stream",
          "name": "stdout",
          "text": [
            "loss: 7.862787070527112\n",
            "loss: 41.457222246718935\n",
            "loss: 41.21939602001462\n",
            "loss: 44.322213370817344\n",
            "loss: 24.244484037920216\n",
            "loss: 25.085660769440214\n",
            "loss: 40.98787024898897\n",
            "loss: 45.98855818444205\n",
            "loss: 26.217540929525434\n",
            "loss: 28.090226106233935\n",
            "loss: 20.38737869311946\n",
            "loss: 18.679223100004922\n",
            "loss: 22.300543158052015\n",
            "loss: 17.261754708416124\n",
            "loss: 14.234768289358929\n",
            "loss: 13.304205942274837\n",
            "loss: 12.53498234024039\n",
            "loss: 11.758791319884178\n",
            "loss: 14.258909790888914\n",
            "loss: 17.03586375639763\n",
            "loss: 12.854193823814963\n",
            "loss: 14.303639151047744\n",
            "loss: 13.47702477792577\n",
            "loss: 11.1418756273927\n",
            "loss: 11.779950605992529\n",
            "loss: 10.865521317878816\n",
            "loss: 10.12921926027023\n",
            "loss: 8.434598714105855\n",
            "loss: 9.043357339978035\n",
            "loss: 7.942675569074206\n"
          ]
        }
      ]
    },
    {
      "cell_type": "markdown",
      "source": [
        "## Loss"
      ],
      "metadata": {
        "id": "-fKPh-a5whzB"
      }
    },
    {
      "cell_type": "code",
      "source": [
        "plt.plot(losses)\n",
        "plt.xlabel(\"EPOCHS\")\n",
        "plt.ylabel(\"Loss value\")\n",
        "plt.show()"
      ],
      "metadata": {
        "id": "h7Bt2MnTwhTT",
        "colab": {
          "base_uri": "https://localhost:8080/",
          "height": 449
        },
        "outputId": "8495c1d6-ed24-4d17-9168-4f496a5974b6"
      },
      "execution_count": 10,
      "outputs": [
        {
          "output_type": "display_data",
          "data": {
            "text/plain": [
              "<Figure size 640x480 with 1 Axes>"
            ],
            "image/png": "[encoded data removed]"
          },
          "metadata": {}
        }
      ]
    },
    {
      "cell_type": "markdown",
      "source": [
        "## Accuracy"
      ],
      "metadata": {
        "id": "XeDHob_RjIGp"
      }
    },
    {
      "cell_type": "code",
      "source": [
        "_, _, _, y_test_hat = forward_prop(w1, w2, b1, b2, X_test)\n",
        "y_test_hat_true = np.argmax(y_test_hat, axis=1)\n",
        "accuracy = accuracy_score(y_test_true, y_test_hat_true)\n",
        "print(f'loss: {loss:.2f}, acc: {accuracy:.2f}')"
      ],
      "metadata": {
        "id": "XD0wfritjF1s",
        "colab": {
          "base_uri": "https://localhost:8080/"
        },
        "outputId": "376525d3-5d0f-4484-9086-1a1418b586fe"
      },
      "execution_count": 11,
      "outputs": [
        {
          "output_type": "stream",
          "name": "stdout",
          "text": [
            "loss: 7.94, acc: 0.83\n"
          ]
        }
      ]
    }
  ]
}